{
 "cells": [
  {
   "metadata": {
    "collapsed": true,
    "ExecuteTime": {
     "end_time": "2025-10-06T05:57:35.992449Z",
     "start_time": "2025-10-06T05:57:35.987253Z"
    }
   },
   "cell_type": "code",
   "source": [
    "#NumPy (Numerical Python) is a library for handling arrays, matrices, and performing high-performance numerical computations.\n",
    "# It’s way faster than using plain Python lists for numbers because it’s written in C under the hood.\n",
    "import numpy as np"
   ],
   "id": "initial_id",
   "outputs": [],
   "execution_count": 12
  },
  {
   "metadata": {
    "ExecuteTime": {
     "end_time": "2025-10-06T06:53:50.008239Z",
     "start_time": "2025-10-06T06:53:49.999658Z"
    }
   },
   "cell_type": "code",
   "source": [
    "# Notice that NumPy defaults to float64 for numbers\n",
    "# Creates an array filled with zeros, with 3 elements.\n",
    "np.zeros(3)"
   ],
   "id": "75daeefead83997f",
   "outputs": [
    {
     "data": {
      "text/plain": [
       "array([0., 0., 0.])"
      ]
     },
     "execution_count": 22,
     "metadata": {},
     "output_type": "execute_result"
    }
   ],
   "execution_count": 22
  },
  {
   "metadata": {
    "ExecuteTime": {
     "end_time": "2025-10-06T06:54:27.802310Z",
     "start_time": "2025-10-06T06:54:27.796665Z"
    }
   },
   "cell_type": "code",
   "source": "np.zeros((2, 3))  # 2 rows, 3 columns",
   "id": "7c70fd33db1948a0",
   "outputs": [
    {
     "data": {
      "text/plain": [
       "array([[0., 0., 0.],\n",
       "       [0., 0., 0.]])"
      ]
     },
     "execution_count": 24,
     "metadata": {},
     "output_type": "execute_result"
    }
   ],
   "execution_count": 24
  },
  {
   "metadata": {
    "ExecuteTime": {
     "end_time": "2025-10-06T06:54:56.721007Z",
     "start_time": "2025-10-06T06:54:56.712289Z"
    }
   },
   "cell_type": "code",
   "source": [
    "# Creates an array filled with ones, with 5 elements.\n",
    "np.ones(5)"
   ],
   "id": "64c04df23702833f",
   "outputs": [
    {
     "data": {
      "text/plain": [
       "array([1., 1., 1., 1., 1.])"
      ]
     },
     "execution_count": 26,
     "metadata": {},
     "output_type": "execute_result"
    }
   ],
   "execution_count": 26
  },
  {
   "metadata": {
    "ExecuteTime": {
     "end_time": "2025-10-06T06:55:20.713719Z",
     "start_time": "2025-10-06T06:55:20.707824Z"
    }
   },
   "cell_type": "code",
   "source": "np.ones(5, dtype=int) # if you want integers instead of floats, you can specify the dtype",
   "id": "408851cf3861af58",
   "outputs": [
    {
     "data": {
      "text/plain": [
       "array([1, 1, 1, 1, 1])"
      ]
     },
     "execution_count": 27,
     "metadata": {},
     "output_type": "execute_result"
    }
   ],
   "execution_count": 27
  },
  {
   "metadata": {
    "ExecuteTime": {
     "end_time": "2025-10-06T06:55:51.638814Z",
     "start_time": "2025-10-06T06:55:51.634264Z"
    }
   },
   "cell_type": "code",
   "source": "np.ones(5, dtype=int) # if you want integers instead of floats, you can specify the dtype",
   "id": "bac43f7cd500dcda",
   "outputs": [
    {
     "data": {
      "text/plain": [
       "array([1, 1, 1, 1, 1])"
      ]
     },
     "execution_count": 29,
     "metadata": {},
     "output_type": "execute_result"
    }
   ],
   "execution_count": 29
  },
  {
   "metadata": {
    "ExecuteTime": {
     "end_time": "2025-10-06T07:06:59.330307Z",
     "start_time": "2025-10-06T07:06:59.321442Z"
    }
   },
   "cell_type": "code",
   "source": [
    "# Creates an array of the given shape, just like np.zeros() or np.ones().\n",
    "# But here’s the kicker: it does NOT initialize the array values.\n",
    "# That means the contents are basically whatever happens to already be in memory—so you’ll see random numbers.\n",
    "# Why use it? Speed. If you’re going to immediately fill the array with real values, np.empty() is faster than zeros or ones because it skips initialization.\n",
    "np.empty(10)"
   ],
   "id": "ef97e136bf4cb70b",
   "outputs": [
    {
     "data": {
      "text/plain": [
       "array([ 0.1 ,  0.2 ,  0.25,  0.5 ,  1.  ,  2.  ,  2.5 ,  5.  , 10.  ,\n",
       "       20.  ])"
      ]
     },
     "execution_count": 36,
     "metadata": {},
     "output_type": "execute_result"
    }
   ],
   "execution_count": 36
  },
  {
   "metadata": {
    "ExecuteTime": {
     "end_time": "2025-10-06T07:07:29.947682Z",
     "start_time": "2025-10-06T07:07:29.940123Z"
    }
   },
   "cell_type": "code",
   "source": "np.random.randint(10,size=4) # An array of 4 random integers. from 0 to 9",
   "id": "56d0bf4e97e8baa0",
   "outputs": [
    {
     "data": {
      "text/plain": [
       "array([7, 9, 4, 4], dtype=int32)"
      ]
     },
     "execution_count": 41,
     "metadata": {},
     "output_type": "execute_result"
    }
   ],
   "execution_count": 41
  },
  {
   "metadata": {
    "ExecuteTime": {
     "end_time": "2025-10-06T07:08:01.183021Z",
     "start_time": "2025-10-06T07:08:01.175307Z"
    }
   },
   "cell_type": "code",
   "source": [
    "o.shape = (5,1) # Is a 2D array with 5 rows and 1 column.\n",
    "o"
   ],
   "id": "2157da5412174736",
   "outputs": [
    {
     "data": {
      "text/plain": [
       "array([[1.],\n",
       "       [1.],\n",
       "       [1.],\n",
       "       [1.],\n",
       "       [1.]])"
      ]
     },
     "execution_count": 43,
     "metadata": {},
     "output_type": "execute_result"
    }
   ],
   "execution_count": 43
  },
  {
   "metadata": {
    "ExecuteTime": {
     "end_time": "2025-10-06T07:08:31.460667Z",
     "start_time": "2025-10-06T07:08:31.454558Z"
    }
   },
   "cell_type": "code",
   "source": "np.linspace(0,1,10) # np.linspace(start, stop, num) creates num evenly spaced numbers between start and stop (inclusive)",
   "id": "b995d884f8b7a8c6",
   "outputs": [
    {
     "data": {
      "text/plain": [
       "array([0.        , 0.11111111, 0.22222222, 0.33333333, 0.44444444,\n",
       "       0.55555556, 0.66666667, 0.77777778, 0.88888889, 1.        ])"
      ]
     },
     "execution_count": 46,
     "metadata": {},
     "output_type": "execute_result"
    }
   ],
   "execution_count": 46
  },
  {
   "metadata": {
    "ExecuteTime": {
     "end_time": "2025-10-06T07:11:52.907570Z",
     "start_time": "2025-10-06T07:11:52.898129Z"
    }
   },
   "cell_type": "code",
   "source": [
    "np_list = np.array([1,2,3,4,5,6,7,8,9,10])\n",
    "# Why use np.array instead of a Python list? Because now you can do fast vectorized operations:\n",
    "np_list * 2"
   ],
   "id": "e36a0e8ed05123fe",
   "outputs": [
    {
     "data": {
      "text/plain": [
       "array([ 2,  4,  6,  8, 10, 12, 14, 16, 18, 20])"
      ]
     },
     "execution_count": 51,
     "metadata": {},
     "output_type": "execute_result"
    }
   ],
   "execution_count": 51
  },
  {
   "metadata": {
    "ExecuteTime": {
     "end_time": "2025-10-06T11:07:04.107765Z",
     "start_time": "2025-10-06T11:07:04.097593Z"
    }
   },
   "cell_type": "code",
   "source": [
    "first = np.array([2,4,6,8,10])\n",
    "second = np.array([1,2,3,4,5])\n",
    "second>3"
   ],
   "id": "c99a955d52f362ac",
   "outputs": [
    {
     "data": {
      "text/plain": [
       "array([False, False, False,  True,  True])"
      ]
     },
     "execution_count": 71,
     "metadata": {},
     "output_type": "execute_result"
    }
   ],
   "execution_count": 71
  },
  {
   "metadata": {
    "ExecuteTime": {
     "end_time": "2025-10-06T07:37:47.502208Z",
     "start_time": "2025-10-06T07:37:47.497342Z"
    }
   },
   "cell_type": "code",
   "source": "second<3",
   "id": "510dba045844ab96",
   "outputs": [
    {
     "data": {
      "text/plain": [
       "array([ True,  True, False, False, False])"
      ]
     },
     "execution_count": 63,
     "metadata": {},
     "output_type": "execute_result"
    }
   ],
   "execution_count": 63
  },
  {
   "metadata": {
    "ExecuteTime": {
     "end_time": "2025-10-06T07:38:23.483456Z",
     "start_time": "2025-10-06T07:38:23.477345Z"
    }
   },
   "cell_type": "code",
   "source": "second.sum()",
   "id": "dddb6eab852dc7d5",
   "outputs": [
    {
     "data": {
      "text/plain": [
       "np.int64(15)"
      ]
     },
     "execution_count": 64,
     "metadata": {},
     "output_type": "execute_result"
    }
   ],
   "execution_count": 64
  },
  {
   "metadata": {
    "ExecuteTime": {
     "end_time": "2025-10-06T07:38:37.257254Z",
     "start_time": "2025-10-06T07:38:37.251759Z"
    }
   },
   "cell_type": "code",
   "source": [
    "more_than_three = first[first>3]\n",
    "more_than_three"
   ],
   "id": "6755b0f528d3b3f4",
   "outputs": [
    {
     "data": {
      "text/plain": [
       "array([7, 7, 8, 4, 9], dtype=int32)"
      ]
     },
     "execution_count": 65,
     "metadata": {},
     "output_type": "execute_result"
    }
   ],
   "execution_count": 65
  },
  {
   "metadata": {
    "ExecuteTime": {
     "end_time": "2025-10-06T11:07:07.381386Z",
     "start_time": "2025-10-06T11:07:07.373992Z"
    }
   },
   "cell_type": "code",
   "source": "first * second",
   "id": "8ad59044dbd003ef",
   "outputs": [
    {
     "data": {
      "text/plain": [
       "array([ 2,  8, 18, 32, 50])"
      ]
     },
     "execution_count": 72,
     "metadata": {},
     "output_type": "execute_result"
    }
   ],
   "execution_count": 72
  },
  {
   "metadata": {
    "ExecuteTime": {
     "end_time": "2025-10-06T11:07:08.823044Z",
     "start_time": "2025-10-06T11:07:08.815227Z"
    }
   },
   "cell_type": "code",
   "source": [
    "n = np.random.randint(10,size=5)\n",
    "m = np.random.randint(10,size=5)\n",
    "print(n)\n",
    "print(m)\n",
    "print(n+m)\n",
    "print(n*m)\n",
    "print(m @ n) # The @ operator in NumPy is matrix multiplication / dot product....  sum(m[i] * n[i] for i in range(len(n)))\n"
   ],
   "id": "8a67a7391544e25e",
   "outputs": [
    {
     "name": "stdout",
     "output_type": "stream",
     "text": [
      "[5 8 2 7 9]\n",
      "[2 4 4 8 7]\n",
      "[ 7 12  6 15 16]\n",
      "[10 32  8 56 63]\n",
      "169\n"
     ]
    }
   ],
   "execution_count": 73
  }
 ],
 "metadata": {
  "kernelspec": {
   "display_name": "Python 3",
   "language": "python",
   "name": "python3"
  },
  "language_info": {
   "codemirror_mode": {
    "name": "ipython",
    "version": 2
   },
   "file_extension": ".py",
   "mimetype": "text/x-python",
   "name": "python",
   "nbconvert_exporter": "python",
   "pygments_lexer": "ipython2",
   "version": "2.7.6"
  }
 },
 "nbformat": 4,
 "nbformat_minor": 5
}
