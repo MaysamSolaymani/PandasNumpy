{
 "cells": [
  {
   "metadata": {
    "ExecuteTime": {
     "end_time": "2025-10-14T06:41:20.680745Z",
     "start_time": "2025-10-14T06:41:20.675002Z"
    }
   },
   "cell_type": "code",
   "source": [
    "import pandas as pd\n",
    "import matplotlib.pyplot as plt\n",
    "import numpy as np\n",
    "\n",
    "file_path = \"../Dataset/Diabet.csv\"\n",
    "df = pd.read_csv(file_path)\n",
    "df.shape"
   ],
   "id": "2c5600da47ab49dc",
   "outputs": [
    {
     "data": {
      "text/plain": [
       "(768, 10)"
      ]
     },
     "execution_count": 57,
     "metadata": {},
     "output_type": "execute_result"
    }
   ],
   "execution_count": 57
  },
  {
   "metadata": {
    "ExecuteTime": {
     "end_time": "2025-10-14T06:41:20.774456Z",
     "start_time": "2025-10-14T06:41:20.765430Z"
    }
   },
   "cell_type": "code",
   "source": [
    "diabetes_map = {True: 1, False: 0}\n",
    "df['diabetes'] = df['diabetes'].map(diabetes_map)\n",
    "df"
   ],
   "id": "c05e3d5deaeaf7f6",
   "outputs": [
    {
     "data": {
      "text/plain": [
       "     num_preg  glucose_conc  diastolic_bp  thickness  insulin   bmi  \\\n",
       "0           6           148            72         35        0  33.6   \n",
       "1           1            85            66         29        0  26.6   \n",
       "2           8           183            64          0        0  23.3   \n",
       "3           1            89            66         23       94  28.1   \n",
       "4           0           137            40         35      168  43.1   \n",
       "..        ...           ...           ...        ...      ...   ...   \n",
       "763        10           101            76         48      180  32.9   \n",
       "764         2           122            70         27        0  36.8   \n",
       "765         5           121            72         23      112  26.2   \n",
       "766         1           126            60          0        0  30.1   \n",
       "767         1            93            70         31        0  30.4   \n",
       "\n",
       "     diab_pred  age    skin  diabetes  \n",
       "0        0.627   50  1.3790         1  \n",
       "1        0.351   31  1.1426         0  \n",
       "2        0.672   32  0.0000         1  \n",
       "3        0.167   21  0.9062         0  \n",
       "4        2.288   33  1.3790         1  \n",
       "..         ...  ...     ...       ...  \n",
       "763      0.171   63  1.8912         0  \n",
       "764      0.340   27  1.0638         0  \n",
       "765      0.245   30  0.9062         0  \n",
       "766      0.349   47  0.0000         1  \n",
       "767      0.315   23  1.2214         0  \n",
       "\n",
       "[768 rows x 10 columns]"
      ],
      "text/html": [
       "<div>\n",
       "<style scoped>\n",
       "    .dataframe tbody tr th:only-of-type {\n",
       "        vertical-align: middle;\n",
       "    }\n",
       "\n",
       "    .dataframe tbody tr th {\n",
       "        vertical-align: top;\n",
       "    }\n",
       "\n",
       "    .dataframe thead th {\n",
       "        text-align: right;\n",
       "    }\n",
       "</style>\n",
       "<table border=\"1\" class=\"dataframe\">\n",
       "  <thead>\n",
       "    <tr style=\"text-align: right;\">\n",
       "      <th></th>\n",
       "      <th>num_preg</th>\n",
       "      <th>glucose_conc</th>\n",
       "      <th>diastolic_bp</th>\n",
       "      <th>thickness</th>\n",
       "      <th>insulin</th>\n",
       "      <th>bmi</th>\n",
       "      <th>diab_pred</th>\n",
       "      <th>age</th>\n",
       "      <th>skin</th>\n",
       "      <th>diabetes</th>\n",
       "    </tr>\n",
       "  </thead>\n",
       "  <tbody>\n",
       "    <tr>\n",
       "      <th>0</th>\n",
       "      <td>6</td>\n",
       "      <td>148</td>\n",
       "      <td>72</td>\n",
       "      <td>35</td>\n",
       "      <td>0</td>\n",
       "      <td>33.6</td>\n",
       "      <td>0.627</td>\n",
       "      <td>50</td>\n",
       "      <td>1.3790</td>\n",
       "      <td>1</td>\n",
       "    </tr>\n",
       "    <tr>\n",
       "      <th>1</th>\n",
       "      <td>1</td>\n",
       "      <td>85</td>\n",
       "      <td>66</td>\n",
       "      <td>29</td>\n",
       "      <td>0</td>\n",
       "      <td>26.6</td>\n",
       "      <td>0.351</td>\n",
       "      <td>31</td>\n",
       "      <td>1.1426</td>\n",
       "      <td>0</td>\n",
       "    </tr>\n",
       "    <tr>\n",
       "      <th>2</th>\n",
       "      <td>8</td>\n",
       "      <td>183</td>\n",
       "      <td>64</td>\n",
       "      <td>0</td>\n",
       "      <td>0</td>\n",
       "      <td>23.3</td>\n",
       "      <td>0.672</td>\n",
       "      <td>32</td>\n",
       "      <td>0.0000</td>\n",
       "      <td>1</td>\n",
       "    </tr>\n",
       "    <tr>\n",
       "      <th>3</th>\n",
       "      <td>1</td>\n",
       "      <td>89</td>\n",
       "      <td>66</td>\n",
       "      <td>23</td>\n",
       "      <td>94</td>\n",
       "      <td>28.1</td>\n",
       "      <td>0.167</td>\n",
       "      <td>21</td>\n",
       "      <td>0.9062</td>\n",
       "      <td>0</td>\n",
       "    </tr>\n",
       "    <tr>\n",
       "      <th>4</th>\n",
       "      <td>0</td>\n",
       "      <td>137</td>\n",
       "      <td>40</td>\n",
       "      <td>35</td>\n",
       "      <td>168</td>\n",
       "      <td>43.1</td>\n",
       "      <td>2.288</td>\n",
       "      <td>33</td>\n",
       "      <td>1.3790</td>\n",
       "      <td>1</td>\n",
       "    </tr>\n",
       "    <tr>\n",
       "      <th>...</th>\n",
       "      <td>...</td>\n",
       "      <td>...</td>\n",
       "      <td>...</td>\n",
       "      <td>...</td>\n",
       "      <td>...</td>\n",
       "      <td>...</td>\n",
       "      <td>...</td>\n",
       "      <td>...</td>\n",
       "      <td>...</td>\n",
       "      <td>...</td>\n",
       "    </tr>\n",
       "    <tr>\n",
       "      <th>763</th>\n",
       "      <td>10</td>\n",
       "      <td>101</td>\n",
       "      <td>76</td>\n",
       "      <td>48</td>\n",
       "      <td>180</td>\n",
       "      <td>32.9</td>\n",
       "      <td>0.171</td>\n",
       "      <td>63</td>\n",
       "      <td>1.8912</td>\n",
       "      <td>0</td>\n",
       "    </tr>\n",
       "    <tr>\n",
       "      <th>764</th>\n",
       "      <td>2</td>\n",
       "      <td>122</td>\n",
       "      <td>70</td>\n",
       "      <td>27</td>\n",
       "      <td>0</td>\n",
       "      <td>36.8</td>\n",
       "      <td>0.340</td>\n",
       "      <td>27</td>\n",
       "      <td>1.0638</td>\n",
       "      <td>0</td>\n",
       "    </tr>\n",
       "    <tr>\n",
       "      <th>765</th>\n",
       "      <td>5</td>\n",
       "      <td>121</td>\n",
       "      <td>72</td>\n",
       "      <td>23</td>\n",
       "      <td>112</td>\n",
       "      <td>26.2</td>\n",
       "      <td>0.245</td>\n",
       "      <td>30</td>\n",
       "      <td>0.9062</td>\n",
       "      <td>0</td>\n",
       "    </tr>\n",
       "    <tr>\n",
       "      <th>766</th>\n",
       "      <td>1</td>\n",
       "      <td>126</td>\n",
       "      <td>60</td>\n",
       "      <td>0</td>\n",
       "      <td>0</td>\n",
       "      <td>30.1</td>\n",
       "      <td>0.349</td>\n",
       "      <td>47</td>\n",
       "      <td>0.0000</td>\n",
       "      <td>1</td>\n",
       "    </tr>\n",
       "    <tr>\n",
       "      <th>767</th>\n",
       "      <td>1</td>\n",
       "      <td>93</td>\n",
       "      <td>70</td>\n",
       "      <td>31</td>\n",
       "      <td>0</td>\n",
       "      <td>30.4</td>\n",
       "      <td>0.315</td>\n",
       "      <td>23</td>\n",
       "      <td>1.2214</td>\n",
       "      <td>0</td>\n",
       "    </tr>\n",
       "  </tbody>\n",
       "</table>\n",
       "<p>768 rows × 10 columns</p>\n",
       "</div>"
      ]
     },
     "execution_count": 58,
     "metadata": {},
     "output_type": "execute_result"
    }
   ],
   "execution_count": 58
  },
  {
   "metadata": {
    "ExecuteTime": {
     "end_time": "2025-10-14T06:41:20.840770Z",
     "start_time": "2025-10-14T06:41:20.834742Z"
    }
   },
   "cell_type": "code",
   "source": "df.shape",
   "id": "c983c1b8d1ac52ee",
   "outputs": [
    {
     "data": {
      "text/plain": [
       "(768, 10)"
      ]
     },
     "execution_count": 59,
     "metadata": {},
     "output_type": "execute_result"
    }
   ],
   "execution_count": 59
  },
  {
   "metadata": {
    "ExecuteTime": {
     "end_time": "2025-10-14T06:41:20.961058Z",
     "start_time": "2025-10-14T06:41:20.956804Z"
    }
   },
   "cell_type": "code",
   "source": [
    "x = df.drop('diabetes', axis=1)\n",
    "y = df['diabetes']"
   ],
   "id": "e5367df1a5dd146f",
   "outputs": [],
   "execution_count": 60
  },
  {
   "metadata": {
    "ExecuteTime": {
     "end_time": "2025-10-14T06:41:21.044341Z",
     "start_time": "2025-10-14T06:41:21.039872Z"
    }
   },
   "cell_type": "code",
   "source": [
    "x = np.array(x)\n",
    "y = np.array(y)\n",
    "type(x)"
   ],
   "id": "b4682d5e9397e3c",
   "outputs": [
    {
     "data": {
      "text/plain": [
       "numpy.ndarray"
      ]
     },
     "execution_count": 61,
     "metadata": {},
     "output_type": "execute_result"
    }
   ],
   "execution_count": 61
  },
  {
   "metadata": {
    "ExecuteTime": {
     "end_time": "2025-10-14T06:41:21.132582Z",
     "start_time": "2025-10-14T06:41:21.125473Z"
    }
   },
   "cell_type": "code",
   "source": "x",
   "id": "4c48fce519ba7c9a",
   "outputs": [
    {
     "data": {
      "text/plain": [
       "array([[  6.    , 148.    ,  72.    , ...,   0.627 ,  50.    ,   1.379 ],\n",
       "       [  1.    ,  85.    ,  66.    , ...,   0.351 ,  31.    ,   1.1426],\n",
       "       [  8.    , 183.    ,  64.    , ...,   0.672 ,  32.    ,   0.    ],\n",
       "       ...,\n",
       "       [  5.    , 121.    ,  72.    , ...,   0.245 ,  30.    ,   0.9062],\n",
       "       [  1.    , 126.    ,  60.    , ...,   0.349 ,  47.    ,   0.    ],\n",
       "       [  1.    ,  93.    ,  70.    , ...,   0.315 ,  23.    ,   1.2214]],\n",
       "      shape=(768, 9))"
      ]
     },
     "execution_count": 62,
     "metadata": {},
     "output_type": "execute_result"
    }
   ],
   "execution_count": 62
  },
  {
   "metadata": {
    "ExecuteTime": {
     "end_time": "2025-10-14T06:41:21.227450Z",
     "start_time": "2025-10-14T06:41:21.220557Z"
    }
   },
   "cell_type": "code",
   "source": [
    "from sklearn.preprocessing import StandardScaler\n",
    "scaler = StandardScaler()\n",
    "x = scaler.fit_transform(x)\n",
    "x"
   ],
   "id": "f3fb366668892fb8",
   "outputs": [
    {
     "data": {
      "text/plain": [
       "array([[ 0.63994726,  0.84832379,  0.14964075, ...,  0.46849198,\n",
       "         1.4259954 ,  0.90726993],\n",
       "       [-0.84488505, -1.12339636, -0.16054575, ..., -0.36506078,\n",
       "        -0.19067191,  0.53090156],\n",
       "       [ 1.23388019,  1.94372388, -0.26394125, ...,  0.60439732,\n",
       "        -0.10558415, -1.28821221],\n",
       "       ...,\n",
       "       [ 0.3429808 ,  0.00330087,  0.14964075, ..., -0.68519336,\n",
       "        -0.27575966,  0.15453319],\n",
       "       [-0.84488505,  0.1597866 , -0.47073225, ..., -0.37110101,\n",
       "         1.17073215, -1.28821221],\n",
       "       [-0.84488505, -0.8730192 ,  0.04624525, ..., -0.47378505,\n",
       "        -0.87137393,  0.65635768]], shape=(768, 9))"
      ]
     },
     "execution_count": 63,
     "metadata": {},
     "output_type": "execute_result"
    }
   ],
   "execution_count": 63
  },
  {
   "metadata": {
    "ExecuteTime": {
     "end_time": "2025-10-14T06:41:21.446828Z",
     "start_time": "2025-10-14T06:41:21.440882Z"
    }
   },
   "cell_type": "code",
   "source": [
    "from sklearn.model_selection import train_test_split\n",
    "x_train, x_test, y_train, y_test = train_test_split(x, y, test_size=0.2)\n",
    "x_train.shape, x_test.shape, y_train.shape, y_test.shape"
   ],
   "id": "5892b77205d08bfa",
   "outputs": [
    {
     "data": {
      "text/plain": [
       "((614, 9), (154, 9), (614,), (154,))"
      ]
     },
     "execution_count": 64,
     "metadata": {},
     "output_type": "execute_result"
    }
   ],
   "execution_count": 64
  },
  {
   "metadata": {
    "ExecuteTime": {
     "end_time": "2025-10-14T10:03:07.646681Z",
     "start_time": "2025-10-14T10:03:07.570820Z"
    }
   },
   "cell_type": "code",
   "source": "from sklearn.preprocessing import normalize\n",
   "id": "6ebeb95f8132072c",
   "outputs": [
    {
     "ename": "TypeError",
     "evalue": "missing a required argument: 'X'",
     "output_type": "error",
     "traceback": [
      "\u001B[31m---------------------------------------------------------------------------\u001B[39m",
      "\u001B[31mTypeError\u001B[39m                                 Traceback (most recent call last)",
      "\u001B[36mCell\u001B[39m\u001B[36m \u001B[39m\u001B[32mIn[67]\u001B[39m\u001B[32m, line 2\u001B[39m\n\u001B[32m      1\u001B[39m \u001B[38;5;28;01mfrom\u001B[39;00m\u001B[38;5;250m \u001B[39m\u001B[34;01msklearn\u001B[39;00m\u001B[34;01m.\u001B[39;00m\u001B[34;01mpreprocessing\u001B[39;00m\u001B[38;5;250m \u001B[39m\u001B[38;5;28;01mimport\u001B[39;00m normalize\n\u001B[32m----> \u001B[39m\u001B[32m2\u001B[39m n = \u001B[43mnormalize\u001B[49m\u001B[43m(\u001B[49m\u001B[43m)\u001B[49m\n",
      "\u001B[36mFile \u001B[39m\u001B[32m~\\AppData\\Roaming\\Python\\Python313\\site-packages\\sklearn\\utils\\_param_validation.py:196\u001B[39m, in \u001B[36mvalidate_params.<locals>.decorator.<locals>.wrapper\u001B[39m\u001B[34m(*args, **kwargs)\u001B[39m\n\u001B[32m    193\u001B[39m func_sig = signature(func)\n\u001B[32m    195\u001B[39m \u001B[38;5;66;03m# Map *args/**kwargs to the function signature\u001B[39;00m\n\u001B[32m--> \u001B[39m\u001B[32m196\u001B[39m params = \u001B[43mfunc_sig\u001B[49m\u001B[43m.\u001B[49m\u001B[43mbind\u001B[49m\u001B[43m(\u001B[49m\u001B[43m*\u001B[49m\u001B[43margs\u001B[49m\u001B[43m,\u001B[49m\u001B[43m \u001B[49m\u001B[43m*\u001B[49m\u001B[43m*\u001B[49m\u001B[43mkwargs\u001B[49m\u001B[43m)\u001B[49m\n\u001B[32m    197\u001B[39m params.apply_defaults()\n\u001B[32m    199\u001B[39m \u001B[38;5;66;03m# ignore self/cls and positional/keyword markers\u001B[39;00m\n",
      "\u001B[36mFile \u001B[39m\u001B[32mC:\\Program Files\\Python313\\Lib\\inspect.py:3269\u001B[39m, in \u001B[36mSignature.bind\u001B[39m\u001B[34m(self, *args, **kwargs)\u001B[39m\n\u001B[32m   3264\u001B[39m \u001B[38;5;28;01mdef\u001B[39;00m\u001B[38;5;250m \u001B[39m\u001B[34mbind\u001B[39m(\u001B[38;5;28mself\u001B[39m, /, *args, **kwargs):\n\u001B[32m   3265\u001B[39m \u001B[38;5;250m    \u001B[39m\u001B[33;03m\"\"\"Get a BoundArguments object, that maps the passed `args`\u001B[39;00m\n\u001B[32m   3266\u001B[39m \u001B[33;03m    and `kwargs` to the function's signature.  Raises `TypeError`\u001B[39;00m\n\u001B[32m   3267\u001B[39m \u001B[33;03m    if the passed arguments can not be bound.\u001B[39;00m\n\u001B[32m   3268\u001B[39m \u001B[33;03m    \"\"\"\u001B[39;00m\n\u001B[32m-> \u001B[39m\u001B[32m3269\u001B[39m     \u001B[38;5;28;01mreturn\u001B[39;00m \u001B[38;5;28;43mself\u001B[39;49m\u001B[43m.\u001B[49m\u001B[43m_bind\u001B[49m\u001B[43m(\u001B[49m\u001B[43margs\u001B[49m\u001B[43m,\u001B[49m\u001B[43m \u001B[49m\u001B[43mkwargs\u001B[49m\u001B[43m)\u001B[49m\n",
      "\u001B[36mFile \u001B[39m\u001B[32mC:\\Program Files\\Python313\\Lib\\inspect.py:3182\u001B[39m, in \u001B[36mSignature._bind\u001B[39m\u001B[34m(self, args, kwargs, partial)\u001B[39m\n\u001B[32m   3180\u001B[39m                 msg = \u001B[33m'\u001B[39m\u001B[33mmissing a required\u001B[39m\u001B[38;5;132;01m{argtype}\u001B[39;00m\u001B[33m argument: \u001B[39m\u001B[38;5;132;01m{arg!r}\u001B[39;00m\u001B[33m'\u001B[39m\n\u001B[32m   3181\u001B[39m                 msg = msg.format(arg=param.name, argtype=argtype)\n\u001B[32m-> \u001B[39m\u001B[32m3182\u001B[39m                 \u001B[38;5;28;01mraise\u001B[39;00m \u001B[38;5;167;01mTypeError\u001B[39;00m(msg) \u001B[38;5;28;01mfrom\u001B[39;00m\u001B[38;5;250m \u001B[39m\u001B[38;5;28;01mNone\u001B[39;00m\n\u001B[32m   3183\u001B[39m \u001B[38;5;28;01melse\u001B[39;00m:\n\u001B[32m   3184\u001B[39m     \u001B[38;5;66;03m# We have a positional argument to process\u001B[39;00m\n\u001B[32m   3185\u001B[39m     \u001B[38;5;28;01mtry\u001B[39;00m:\n",
      "\u001B[31mTypeError\u001B[39m: missing a required argument: 'X'"
     ]
    }
   ],
   "execution_count": 67
  }
 ],
 "metadata": {
  "kernelspec": {
   "display_name": "Python 3",
   "language": "python",
   "name": "python3"
  },
  "language_info": {
   "codemirror_mode": {
    "name": "ipython",
    "version": 2
   },
   "file_extension": ".py",
   "mimetype": "text/x-python",
   "name": "python",
   "nbconvert_exporter": "python",
   "pygments_lexer": "ipython2",
   "version": "2.7.6"
  }
 },
 "nbformat": 4,
 "nbformat_minor": 5
}
